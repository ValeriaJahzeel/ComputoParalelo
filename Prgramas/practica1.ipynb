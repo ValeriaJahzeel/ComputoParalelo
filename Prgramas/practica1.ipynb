{
 "cells": [
  {
   "cell_type": "code",
   "execution_count": 49,
   "metadata": {},
   "outputs": [
    {
     "name": "stdout",
     "output_type": "stream",
     "text": [
      "[array([24123, 31652, 36844, ..., 80099, 12157,  2858]), array([43589,  5520, 16772, ..., 22903, 15197,  9121]), array([65888, 74037, 18399, ..., 65670,  4851, 49247]), array([56320, 64199, 93697, ...,  9437, 10687, 83728]), array([74513, 50256, 41696, ..., 85803, 24086, 26641]), array([54815, 52246,  7773, ..., 72320, 71903, 12167]), array([60689, 75244, 44538, ..., 13535, 18586, 55573])]\n",
      "[99999, 99985, 99993, 99983, 99978, 99964, 99995]\n",
      "99999\n"
     ]
    }
   ],
   "source": [
    "import numpy as np\n",
    "import math\n",
    "from multiprocess import Pool\n",
    "\n",
    "\n",
    "lista = np.random.randint(100000, size = (50000))\n",
    "procesadores = 7\n",
    "\n",
    "# print(lista)\n",
    "\n",
    "def nivelacion_cargas(valores, procesadores):\n",
    "     mod = len(valores) % procesadores  # por si sobran valores\n",
    "     ind = math.floor(len(valores)/procesadores )   # para saber cuantos le toca a cada uno\n",
    "     final = []    # para guardar las particiones\n",
    "\n",
    "     # inicializar los limites inferiores y superiores\n",
    "     li = 0\n",
    "     ls = ind\n",
    "\n",
    "     # print(mod, ind)\n",
    "\n",
    "     for i in range(procesadores):      # para un tiempo O(procesadores)\n",
    "          ls = li+ind\n",
    "          if i < mod:    # para repartir los valores que sobran\n",
    "               ls += 1\n",
    "          final.append(valores[li:ls])\n",
    "          li = ls\n",
    "\n",
    "     return final\n",
    "     \n",
    "# preprocesamiento\n",
    "cargas = nivelacion_cargas(lista, procesadores)\n",
    "print(cargas)\n",
    "\n",
    "\n",
    "# funcion paralelo\n",
    "# def maximo(cargas):\n",
    "#      maximos = []\n",
    "     \n",
    "#      for i in range(len(cargas)):\n",
    "#           maximos.append(max(lista[i]))\n",
    "\n",
    "#      return maximos\n",
    "\n",
    "\n",
    "def maximo(seccion):\n",
    "     return max(seccion)\n",
    "\n",
    "\n",
    "with Pool(procesadores) as pool:\n",
    "    resultados = pool.map(maximo, cargas)\n",
    "\n",
    "print(resultados)\n",
    "\n",
    "print(max(resultados))\n"
   ]
  }
 ],
 "metadata": {
  "kernelspec": {
   "display_name": "Python 3",
   "language": "python",
   "name": "python3"
  },
  "language_info": {
   "codemirror_mode": {
    "name": "ipython",
    "version": 3
   },
   "file_extension": ".py",
   "mimetype": "text/x-python",
   "name": "python",
   "nbconvert_exporter": "python",
   "pygments_lexer": "ipython3",
   "version": "3.11.1"
  }
 },
 "nbformat": 4,
 "nbformat_minor": 2
}
