{
 "cells": [
  {
   "cell_type": "code",
   "execution_count": 1,
   "metadata": {},
   "outputs": [],
   "source": [
    "from time import time\n",
    "import numpy as np\n",
    "from multiprocess import Pool\n",
    "from itertools import chain\n",
    "\n",
    "def nivelacion_cargas(D, n_p):\n",
    "    s=len(D)%n_p\n",
    "    t=int((len(D)-s)/n_p)\n",
    "    out=[]\n",
    "    for i in range(n_p):\n",
    "        if i<s:\n",
    "            out.append(D[i*t+i:i*t+i+t+1])            \n",
    "        else:\n",
    "            out.append(D[i*t+s:i*t+s+t])\n",
    "    return out\n",
    "\n",
    "def suma_Riemann(a, b, funcion, figuras_inscritas):\n",
    "    t = time()\n",
    "    ancho = (b - a) / figuras_inscritas\n",
    "    print(\"Ancho de los rectangulos ->\", ancho)\n",
    "    suma_riemann = 0\n",
    "    for i in range(1, figuras_inscritas + 1):\n",
    "        datos = a + i * ancho\n",
    "        suma_riemann += funcion(datos) * ancho\n",
    "    tiempo_total = time() - t\n",
    "    return suma_riemann, tiempo_total\n",
    "\n",
    "def riemann_Pool(a, b, num_proce, funcion, figuras_inscritas):\n",
    "    t = time()\n",
    "    ancho = (b - a) / figuras_inscritas\n",
    "    print(\"Ancho de los rectangulos ->\", ancho)\n",
    "    datos = np.linspace(a + ancho, b, figuras_inscritas)\n",
    "    nivel_cargas = nivelacion_cargas(D=np.array(datos), n_p=num_proce)\n",
    "    #print(\"Nivelacion de cargas ->\", nivel_cargas)\n",
    "    \n",
    "    with Pool(num_proce) as pool:\n",
    "        resultados_sublistas = pool.map(funcion, nivel_cargas)\n",
    "        \n",
    "    #resultados_combinados =  [items for mini_lista in resultados_sublistas for items in mini_lista] --> lo mismo que:\n",
    "    resultados_combinados = list(chain.from_iterable(resultados_sublistas))\n",
    "    resul = sum(resultados_combinados) * ancho\n",
    "    tiempo_total = time() - t\n",
    "    return resul, tiempo_total"
   ]
  },
  {
   "cell_type": "code",
   "execution_count": 2,
   "metadata": {},
   "outputs": [
    {
     "name": "stdout",
     "output_type": "stream",
     "text": [
      "Sin usar Rienmann\n",
      "Ancho de los rectangulos -> 1.0\n",
      "tiempo Sin Pool -> 0.0 segundos\n",
      "Resultado -> 19.14626436994197 \n",
      "\n",
      "Con Rienmann\n",
      "Ancho de los rectangulos -> 1.0\n",
      "tiempo CON Pool -> 0.4322021007537842 segundos\n",
      "Resultado -> 19.14626436994197\n"
     ]
    }
   ],
   "source": [
    "limite_inferior = 0\n",
    "limite_superior = 4\n",
    "funcion = lambda x:(x/2) + x**(1/2) + 2 \n",
    "num_proce = 3\n",
    "figuras_inscritas =4\n",
    "\n",
    "print(\"Sin usar Rienmann\")\n",
    "resultado, tiempo_total = suma_Riemann(a = limite_inferior,b= limite_superior, funcion=funcion,figuras_inscritas = figuras_inscritas)\n",
    "print(\"tiempo Sin Pool ->\", tiempo_total, \"segundos\")\n",
    "print(\"Resultado ->\", resultado, \"\\n\")\n",
    "\n",
    "print(\"Con Rienmann\")\n",
    "resultado, tiempo_total = riemann_Pool(a = limite_inferior,b= limite_superior, num_proce=num_proce, funcion=funcion,figuras_inscritas = figuras_inscritas)\n",
    "print(\"tiempo CON Pool ->\", tiempo_total, \"segundos\")\n",
    "print(\"Resultado ->\", resultado)"
   ]
  },
  {
   "cell_type": "code",
   "execution_count": 3,
   "metadata": {},
   "outputs": [
    {
     "name": "stdout",
     "output_type": "stream",
     "text": [
      "Sin usar Rienmann\n",
      "Ancho de los rectangulos -> 3.0\n",
      "tiempo Sin Pool -> 0.0 segundos\n",
      "Resultado -> 60.0 \n",
      "\n",
      "Con Rienmann\n",
      "Ancho de los rectangulos -> 3.0\n",
      "tiempo Sin Pool -> 0.5669891834259033 segundos\n",
      "Resultado -> 60.0\n"
     ]
    }
   ],
   "source": [
    "limite_inferior = 0\n",
    "limite_superior = 3\n",
    "funcion = lambda x: (2*x**2)+2 \n",
    "num_proce = 4\n",
    "figuras_inscritas =1\n",
    "\n",
    "print(\"Sin usar Rienmann\")\n",
    "resultado, tiempo_total = suma_Riemann(a = limite_inferior,b= limite_superior, funcion=funcion,figuras_inscritas = figuras_inscritas)\n",
    "print(\"tiempo Sin Pool ->\", tiempo_total, \"segundos\")\n",
    "print(\"Resultado ->\", resultado, \"\\n\")\n",
    "\n",
    "print(\"Con Rienmann\")\n",
    "resultado, tiempo_total = riemann_Pool(a = limite_inferior,b= limite_superior, num_proce=num_proce, funcion=funcion,figuras_inscritas = figuras_inscritas)\n",
    "print(\"tiempo Sin Pool ->\", tiempo_total, \"segundos\")\n",
    "print(\"Resultado ->\", resultado)"
   ]
  }
 ],
 "metadata": {
  "kernelspec": {
   "display_name": "Python 3",
   "language": "python",
   "name": "python3"
  },
  "language_info": {
   "codemirror_mode": {
    "name": "ipython",
    "version": 3
   },
   "file_extension": ".py",
   "mimetype": "text/x-python",
   "name": "python",
   "nbconvert_exporter": "python",
   "pygments_lexer": "ipython3",
   "version": "3.11.1"
  }
 },
 "nbformat": 4,
 "nbformat_minor": 2
}
