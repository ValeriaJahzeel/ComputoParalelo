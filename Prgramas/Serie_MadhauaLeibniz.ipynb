{
 "cells": [
  {
   "cell_type": "markdown",
   "metadata": {},
   "source": [
    "# Serie de Madhaua - Leibniz paralela"
   ]
  },
  {
   "cell_type": "markdown",
   "metadata": {},
   "source": [
    "Nota: El programa si sirve pero no lo ejecuta bien"
   ]
  },
  {
   "cell_type": "code",
   "execution_count": 1,
   "metadata": {},
   "outputs": [],
   "source": [
    "import numpy as np\n",
    "import random\n",
    "import math\n",
    "import multiprocessing\n",
    "from multiprocessing import Pool\n",
    "\n",
    "import time"
   ]
  },
  {
   "cell_type": "code",
   "execution_count": 2,
   "metadata": {},
   "outputs": [],
   "source": [
    "# variables\n",
    "cant_valores = 10     # pasos\n",
    "num_procesadores = 5\n"
   ]
  },
  {
   "cell_type": "code",
   "execution_count": 3,
   "metadata": {},
   "outputs": [],
   "source": [
    "def nivelacion_cargas(valores, procesadores):\n",
    "     mod = len(valores) % procesadores  # por si sobran valores\n",
    "     ind = math.floor(len(valores)/procesadores )   # para saber cuantos le toca a cada uno\n",
    "     final = []    # para guardar las particiones\n",
    "\n",
    "     # inicializar los limites inferiores y superiores\n",
    "     li = 0\n",
    "     ls = ind\n",
    "\n",
    "     for i in range(procesadores):      # para un tiempo O(procesadores)\n",
    "          ls = li+ind\n",
    "          if i < mod:    # para repartir los valores que sobran\n",
    "               ls += 1\n",
    "          final.append(valores[li:ls])\n",
    "          li = ls\n",
    "     return final"
   ]
  },
  {
   "cell_type": "code",
   "execution_count": 4,
   "metadata": {},
   "outputs": [
    {
     "name": "stdout",
     "output_type": "stream",
     "text": [
      "Serie de Madhaua - Leibniz ->  [0.3333333333333333, 0.2, 0.14285714285714285, 0.1111111111111111, 0.09090909090909091, 0.07692307692307693, 0.06666666666666667, 0.058823529411764705, 0.05263157894736842, 0.047619047619047616]\n",
      "10\n"
     ]
    }
   ],
   "source": [
    "def construccionSerie(cant_valores):\n",
    "     serie = []\n",
    "     i = 3  # para que empieze en el 3\n",
    "     while(len(serie) < cant_valores):          \n",
    "          serie.append(1/i)\n",
    "          i += 2\n",
    "\n",
    "     return serie\n",
    "     \n",
    "\n",
    "serie = construccionSerie(cant_valores)\n",
    "print(\"Serie de Madhaua - Leibniz -> \", serie)\n",
    "print(len(serie))"
   ]
  },
  {
   "cell_type": "code",
   "execution_count": 5,
   "metadata": {},
   "outputs": [],
   "source": [
    "def suma(seccion):\n",
    "     return sum(seccion)"
   ]
  },
  {
   "cell_type": "code",
   "execution_count": 6,
   "metadata": {},
   "outputs": [
    {
     "name": "stdout",
     "output_type": "stream",
     "text": [
      "Nivelacion de cargas ->  [[0.3333333333333333, 0.2], [0.14285714285714285, 0.1111111111111111], [0.09090909090909091, 0.07692307692307693], [0.06666666666666667, 0.058823529411764705], [0.05263157894736842, 0.047619047619047616]]\n"
     ]
    }
   ],
   "source": [
    "cargas = nivelacion_cargas(serie, num_procesadores)\n",
    "print(\"Nivelacion de cargas -> \", cargas)"
   ]
  },
  {
   "cell_type": "code",
   "execution_count": null,
   "metadata": {},
   "outputs": [],
   "source": [
    "# suma paralela\n",
    "res = []\n",
    "with Pool(num_procesadores) as pool:\n",
    "     # Se guardan los resultados en una variable\n",
    "     res = pool.map(suma, cargas)\n",
    "\n",
    "print(\"Sumas parciales -> \", res)\n",
    "\n",
    "print(\"Suma total -> \", 1 + sum(res))"
   ]
  },
  {
   "cell_type": "code",
   "execution_count": null,
   "metadata": {},
   "outputs": [],
   "source": [
    "def suma2(carga,lock,results):\n",
    "     lock.acquire()\n",
    "     print(sum(carga))\n",
    "     results.append(sum(carga))\n",
    "     lock.release()\n",
    "\n",
    "results = multiprocessing.Manager().list()\n",
    "lock=multiprocessing.Lock()\n",
    "res = []\n",
    "\n",
    "for i in range(num_procesadores):\n",
    "     res.append(multiprocessing.Process(target = suma2, args=[cargas[i],lock, results]))\n",
    "\n",
    "start_time = time.perf_counter()\n",
    "\n",
    "for thread in res:\n",
    "    thread.start()\n",
    "\n",
    "for thread in res:\n",
    "    thread.join()\n",
    "\n",
    "finish_time = time.perf_counter()\n",
    "\n",
    "print(f\"Program finished in {finish_time-start_time} seconds\")\n",
    "print(\"Suma total -> \", sum(results) +1 )"
   ]
  }
 ],
 "metadata": {
  "kernelspec": {
   "display_name": "Python 3 (ipykernel)",
   "language": "python",
   "name": "python3"
  },
  "language_info": {
   "codemirror_mode": {
    "name": "ipython",
    "version": 3
   },
   "file_extension": ".py",
   "mimetype": "text/x-python",
   "name": "python",
   "nbconvert_exporter": "python",
   "pygments_lexer": "ipython3",
   "version": "3.11.1"
  }
 },
 "nbformat": 4,
 "nbformat_minor": 2
}
