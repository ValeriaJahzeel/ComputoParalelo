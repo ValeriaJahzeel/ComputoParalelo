{
 "cells": [
  {
   "cell_type": "markdown",
   "metadata": {},
   "source": [
    "# Gather y Scatter para encontrar media utilizando sus funciones implementadas"
   ]
  },
  {
   "cell_type": "markdown",
   "metadata": {},
   "source": [
    "## MPI COMM WORLD"
   ]
  },
  {
   "cell_type": "code",
   "execution_count": null,
   "metadata": {},
   "outputs": [],
   "source": [
    "from mpi4py import MPI\n",
    "\n",
    "comm = MPI.COMM_WORLD\n",
    "rank = comm. Get_rank()\n",
    "\n",
    "print('Hi I am rank number:', rank)"
   ]
  },
  {
   "cell_type": "markdown",
   "metadata": {},
   "source": [
    "## Enviar y recibir mensajes\n",
    "* Para enviar mensajes por MPI se utiliza la siguiente instrucción:\n",
    "\n",
    "MPI.COMM_WORLD.send(data, dest=destino)\n",
    "\n",
    "* Para recibir los mensajes por MPI se utiliza la siguiente instrucción:\n",
    "\n",
    "MPI.COMM_WORLD.recv(source=fuente)"
   ]
  },
  {
   "cell_type": "code",
   "execution_count": null,
   "metadata": {},
   "outputs": [],
   "source": [
    "if rank == 0:\n",
    "     data = {'a':7, 'b' : 3.14}\n",
    "     comm.send(data, dest=1)\n",
    "     print('Proceso 0, envio data', data, 'a proceso 1')\n",
    "\n",
    "elif rank == 1:\n",
    "     time.sleep(5)\n",
    "     data=comm.recv(source=0)\n",
    "     print('Proceso 1, recibe data', data, 'de proceso 0')"
   ]
  },
  {
   "cell_type": "markdown",
   "metadata": {},
   "source": [
    "## Nivelación de cargas (1)\n",
    "\n",
    "Similar al balanceo de cargas con hilos, en este caso el proceso que realiza la nivelación de cargas y envía la parte\n",
    "correspondiente a cada proceso."
   ]
  },
  {
   "cell_type": "code",
   "execution_count": null,
   "metadata": {},
   "outputs": [],
   "source": [
    "import math\n",
    "\n",
    "def nivelacion_cargas(valores, procesadores):\n",
    "     mod = len(valores) % procesadores  # por si sobran valores\n",
    "     ind = math.floor(len(valores)/procesadores )   # para saber cuantos le toca a cada uno\n",
    "     final = []    # para guardar las particiones\n",
    "\n",
    "     # inicializar los limites inferiores y superiores\n",
    "     li = 0\n",
    "     ls = ind\n",
    "\n",
    "     print(mod, ind)\n",
    "\n",
    "     for i in range(procesadores):      # para un tiempo O(procesadores)\n",
    "          ls = li+ind\n",
    "          if i < mod:    # para repartir los valores que sobran\n",
    "               ls += 1\n",
    "          final.append(valores[li:ls])\n",
    "          li = ls\n",
    "     return final"
   ]
  },
  {
   "cell_type": "markdown",
   "metadata": {},
   "source": [
    "## Nivelación de cargas (2)\n",
    "En el caso de que en un nodo de la red se tenga una copia de los datos que se van a procesar, en este caso se tiene que determinar la parte que se va a procesar en cada nodo. Para difundir un conjunto de datos se utiliza la función:\n",
    "\n",
    "MPI. COMM_WORLD.bcast(data, root=0)\n",
    "\n",
    "Donde, data es el dato que se va a transmitir a los demás nodos y\n",
    "root es el proceso que realizará el envío del dato."
   ]
  },
  {
   "cell_type": "code",
   "execution_count": null,
   "metadata": {},
   "outputs": [],
   "source": [
    "MPI. COMM_WORLD.bcast(data, root=0)"
   ]
  },
  {
   "cell_type": "markdown",
   "metadata": {},
   "source": [
    "## Broadcast, Scattter, Gather\n",
    "\n",
    "* Broadcast. Realiza una difusión de un dato en estructura de lista o\n",
    "tensor a un conjunto de nodos que se tiene en la red.\n",
    "* Scatter. Realiza una difusión de particiones de un dato en estructura\n",
    "de lista o tensor y se envía al conjunto de nodos que se tiene en la\n",
    "red.\n",
    "* Gather. Se realiza una recolección de datos procesados hacia el nodo\n",
    "raíz."
   ]
  },
  {
   "cell_type": "code",
   "execution_count": null,
   "metadata": {},
   "outputs": [],
   "source": []
  },
  {
   "cell_type": "markdown",
   "metadata": {},
   "source": [
    "## Sockets\n",
    "Un socket es una interfaz de programación de aplicaciones entre\n",
    "procesos a través de una red, ya sea en la misma máquina o en\n",
    "diferentes máquinas.\n",
    "El socket proporciona el medio para que los procesos se comuniquen\n",
    "entre sí mediante el cambio de datos."
   ]
  }
 ],
 "metadata": {
  "language_info": {
   "name": "python"
  }
 },
 "nbformat": 4,
 "nbformat_minor": 2
}
