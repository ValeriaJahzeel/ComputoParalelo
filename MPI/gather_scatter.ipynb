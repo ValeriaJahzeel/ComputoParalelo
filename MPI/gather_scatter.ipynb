{
 "cells": [
  {
   "cell_type": "markdown",
   "metadata": {},
   "source": [
    "# Gather y Scatter para encontrar media utilizando sus funciones implementadas"
   ]
  },
  {
   "cell_type": "code",
   "execution_count": null,
   "metadata": {},
   "outputs": [],
   "source": [
    "mpiexec -np 4 python gather_scatter.ipynb\n",
    "\n",
    "mpirun -np 4 python gather_scatter.ipynb"
   ]
  },
  {
   "cell_type": "markdown",
   "metadata": {},
   "source": [
    "## MPI COMM WORLD"
   ]
  },
  {
   "cell_type": "code",
   "execution_count": 1,
   "metadata": {},
   "outputs": [
    {
     "ename": "ImportError",
     "evalue": "DLL load failed while importing MPI: No se puede encontrar el módulo especificado.",
     "output_type": "error",
     "traceback": [
      "\u001b[1;31m---------------------------------------------------------------------------\u001b[0m",
      "\u001b[1;31mImportError\u001b[0m                               Traceback (most recent call last)",
      "Cell \u001b[1;32mIn[1], line 1\u001b[0m\n\u001b[1;32m----> 1\u001b[0m \u001b[38;5;28;01mfrom\u001b[39;00m \u001b[38;5;21;01mmpi4py\u001b[39;00m \u001b[38;5;28;01mimport\u001b[39;00m MPI\n\u001b[0;32m      3\u001b[0m comm \u001b[38;5;241m=\u001b[39m MPI\u001b[38;5;241m.\u001b[39mCOMM_WORLD\n\u001b[0;32m      4\u001b[0m rank \u001b[38;5;241m=\u001b[39m comm\u001b[38;5;241m.\u001b[39m Get_rank()\n",
      "\u001b[1;31mImportError\u001b[0m: DLL load failed while importing MPI: No se puede encontrar el módulo especificado."
     ]
    }
   ],
   "source": [
    "from mpi4py import MPI\n",
    "\n",
    "comm = MPI.COMM_WORLD\n",
    "rank = comm. Get_rank()\n",
    "\n",
    "print('Hi I am rank number:', rank)"
   ]
  },
  {
   "cell_type": "markdown",
   "metadata": {},
   "source": [
    "## Enviar y recibir mensajes\n",
    "* Para enviar mensajes por MPI se utiliza la siguiente instrucción:\n",
    "\n",
    "MPI.COMM_WORLD.send(data, dest=destino)\n",
    "\n",
    "* Para recibir los mensajes por MPI se utiliza la siguiente instrucción:\n",
    "\n",
    "MPI.COMM_WORLD.recv(source=fuente)"
   ]
  },
  {
   "cell_type": "code",
   "execution_count": null,
   "metadata": {},
   "outputs": [],
   "source": [
    "if rank == 0:\n",
    "     data = {'a':7, 'b' : 3.14}\n",
    "     comm.send(data, dest=1)\n",
    "     print('Proceso 0, envio data', data, 'a proceso 1')\n",
    "\n",
    "elif rank == 1:\n",
    "     time.sleep(5)\n",
    "     data=comm.recv(source=0)\n",
    "     print('Proceso 1, recibe data', data, 'de proceso 0')"
   ]
  },
  {
   "cell_type": "markdown",
   "metadata": {},
   "source": [
    "## Nivelación de cargas (1)\n",
    "\n",
    "Similar al balanceo de cargas con hilos, en este caso el proceso que realiza la nivelación de cargas y envía la parte\n",
    "correspondiente a cada proceso."
   ]
  },
  {
   "cell_type": "code",
   "execution_count": null,
   "metadata": {},
   "outputs": [],
   "source": [
    "import math\n",
    "\n",
    "def nivelacion_cargas(valores, procesadores):\n",
    "     mod = len(valores) % procesadores  # por si sobran valores\n",
    "     ind = math.floor(len(valores)/procesadores )   # para saber cuantos le toca a cada uno\n",
    "     final = []    # para guardar las particiones\n",
    "\n",
    "     # inicializar los limites inferiores y superiores\n",
    "     li = 0\n",
    "     ls = ind\n",
    "\n",
    "     print(mod, ind)\n",
    "\n",
    "     for i in range(procesadores):      # para un tiempo O(procesadores)\n",
    "          ls = li+ind\n",
    "          if i < mod:    # para repartir los valores que sobran\n",
    "               ls += 1\n",
    "          final.append(valores[li:ls])\n",
    "          li = ls\n",
    "     return final"
   ]
  },
  {
   "cell_type": "markdown",
   "metadata": {},
   "source": [
    "## Nivelación de cargas (2)\n",
    "En el caso de que en un nodo de la red se tenga una copia de los datos que se van a procesar, en este caso se tiene que determinar la parte que se va a procesar en cada nodo. Para difundir un conjunto de datos se utiliza la función:\n",
    "\n",
    "MPI. COMM_WORLD.bcast(data, root=0)\n",
    "\n",
    "Donde, data es el dato que se va a transmitir a los demás nodos y\n",
    "root es el proceso que realizará el envío del dato."
   ]
  },
  {
   "cell_type": "code",
   "execution_count": null,
   "metadata": {},
   "outputs": [],
   "source": [
    "MPI. COMM_WORLD.bcast(data, root=0)"
   ]
  },
  {
   "cell_type": "markdown",
   "metadata": {},
   "source": [
    "## Broadcast, Scattter, Gather\n",
    "\n",
    "* Broadcast. Realiza una difusión de un dato en estructura de lista o\n",
    "tensor a un conjunto de nodos que se tiene en la red.\n",
    "* Scatter. Realiza una difusión de particiones de un dato en estructura\n",
    "de lista o tensor y se envía al conjunto de nodos que se tiene en la\n",
    "red.\n",
    "* Gather. Se realiza una recolección de datos procesados hacia el nodo\n",
    "raíz."
   ]
  },
  {
   "cell_type": "code",
   "execution_count": null,
   "metadata": {},
   "outputs": [],
   "source": []
  },
  {
   "cell_type": "markdown",
   "metadata": {},
   "source": [
    "## Sockets\n",
    "Un socket es una interfaz de programación de aplicaciones entre\n",
    "procesos a través de una red, ya sea en la misma máquina o en\n",
    "diferentes máquinas.\n",
    "El socket proporciona el medio para que los procesos se comuniquen\n",
    "entre sí mediante el cambio de datos."
   ]
  }
 ],
 "metadata": {
  "kernelspec": {
   "display_name": "Python 3",
   "language": "python",
   "name": "python3"
  },
  "language_info": {
   "codemirror_mode": {
    "name": "ipython",
    "version": 3
   },
   "file_extension": ".py",
   "mimetype": "text/x-python",
   "name": "python",
   "nbconvert_exporter": "python",
   "pygments_lexer": "ipython3",
   "version": "3.11.1"
  }
 },
 "nbformat": 4,
 "nbformat_minor": 2
}
