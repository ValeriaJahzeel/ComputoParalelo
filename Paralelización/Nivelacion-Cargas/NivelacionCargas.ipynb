{
 "cells": [
  {
   "cell_type": "code",
   "execution_count": 5,
   "metadata": {},
   "outputs": [
    {
     "name": "stdout",
     "output_type": "stream",
     "text": [
      "2 3\n",
      "[[1, 2, 3, 4], [5, 6, 7, 8], [9, 10, 11], [12, 13, 14], [15, 16, 17], [18, 19, 20]]\n"
     ]
    }
   ],
   "source": [
    "import math\n",
    "\n",
    "valores = [1,2,3,4,5,6,7,8,9,10,11,12,13,14,15,16,17,18,19,20]\n",
    "procesadores = 6\n",
    "\n",
    "def nivelacion_cargas(valores, procesadores):\n",
    "     mod = len(valores) % procesadores  # por si sobran valores\n",
    "     ind = math.floor(len(valores)/procesadores )   # para saber cuantos le toca a cada uno\n",
    "     final = []    # para guardar las particiones\n",
    "\n",
    "     # inicializar los limites inferiores y superiores\n",
    "     li = 0\n",
    "     ls = ind\n",
    "\n",
    "     print(mod, ind)\n",
    "\n",
    "     for i in range(procesadores):      # para un tiempo O(procesadores)\n",
    "          ls = li+ind\n",
    "          if i < mod:    # para repartir los valores que sobran\n",
    "               ls += 1\n",
    "          final.append(valores[li:ls])\n",
    "          li = ls\n",
    "     return final\n",
    "\n",
    "print(nivelacion_cargas(valores, procesadores))\n"
   ]
  }
 ],
 "metadata": {
  "kernelspec": {
   "display_name": "Python 3",
   "language": "python",
   "name": "python3"
  },
  "language_info": {
   "codemirror_mode": {
    "name": "ipython",
    "version": 3
   },
   "file_extension": ".py",
   "mimetype": "text/x-python",
   "name": "python",
   "nbconvert_exporter": "python",
   "pygments_lexer": "ipython3",
   "version": "3.11.1"
  }
 },
 "nbformat": 4,
 "nbformat_minor": 2
}
