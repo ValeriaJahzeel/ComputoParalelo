{
 "cells": [
  {
   "cell_type": "code",
   "execution_count": 1,
   "metadata": {},
   "outputs": [
    {
     "name": "stdout",
     "output_type": "stream",
     "text": [
      "[[157  35]\n",
      " [115  18]\n",
      " [ 51 109]\n",
      " ...\n",
      " [ 99   0]\n",
      " [ 17  40]\n",
      " [193 143]]\n",
      "[95 74]\n"
     ]
    },
    {
     "ename": "TypeError",
     "evalue": "'module' object is not callable",
     "output_type": "error",
     "traceback": [
      "\u001b[1;31m---------------------------------------------------------------------------\u001b[0m",
      "\u001b[1;31mTypeError\u001b[0m                                 Traceback (most recent call last)",
      "Cell \u001b[1;32mIn[1], line 24\u001b[0m\n\u001b[0;32m     20\u001b[0m      \u001b[38;5;28;01mreturn\u001b[39;00m dist\n\u001b[0;32m     22\u001b[0m n_p \u001b[38;5;241m=\u001b[39m \u001b[38;5;241m7\u001b[39m\n\u001b[1;32m---> 24\u001b[0m parametros \u001b[38;5;241m=\u001b[39m \u001b[38;5;28mzip\u001b[39m(\u001b[43mnivelacionCargas\u001b[49m\u001b[43m(\u001b[49m\u001b[43mD\u001b[49m\u001b[43m,\u001b[49m\u001b[43mn_p\u001b[49m\u001b[43m)\u001b[49m, [p \u001b[38;5;28;01mfor\u001b[39;00m x \u001b[38;5;129;01min\u001b[39;00m \u001b[38;5;28mrange\u001b[39m(n_p)])\n\u001b[0;32m     26\u001b[0m \u001b[38;5;28;01mwith\u001b[39;00m Pool(n_p) \u001b[38;5;28;01mas\u001b[39;00m p:\n\u001b[0;32m     27\u001b[0m      resultados \u001b[38;5;241m=\u001b[39m p\u001b[38;5;241m.\u001b[39mmap(distancias )\n",
      "\u001b[1;31mTypeError\u001b[0m: 'module' object is not callable"
     ]
    }
   ],
   "source": [
    "import numpy as np\n",
    "import math\n",
    "import nivelacionCargas\n",
    "from multiprocessing import Pool\n",
    "\n",
    "D = np.random.randint(256, size = (100000,2), dtype = np.uint8)\n",
    "p = np.random.randint(246, size = (2), dtype = np.uint8)\n",
    "\n",
    "print(D)\n",
    "print(p)\n",
    "\n",
    "def distancias(D, p):\n",
    "     dist = []\n",
    "     for d in D:\n",
    "          # dist_aux = 0.0\n",
    "          # for e in range(len(d)):\n",
    "          #      dist_aux += (d[e]-p[e]) ** 2\n",
    "          dist.append(math.sqrt(np.sum((p - d) ** 2) ** 1/2))\n",
    "\n",
    "     return dist\n",
    "\n",
    "n_p = 7\n",
    "\n",
    "parametros = zip(nivelacionCargas(D,n_p), [p for x in range(n_p)])\n",
    "\n",
    "with Pool(n_p) as p:\n",
    "     resultados = p.map(distancias )\n",
    "\n",
    "print(len(distancias(D,p)))\n"
   ]
  },
  {
   "cell_type": "code",
   "execution_count": 1,
   "metadata": {},
   "outputs": [
    {
     "name": "stdout",
     "output_type": "stream",
     "text": [
      "<zip object at 0x000001D5A9D96380>\n",
      "[[1, 'uno'], [2, 'dos']]\n"
     ]
    }
   ],
   "source": [
    "a = [1,2]\n",
    "b = ['uno', 'dos']\n",
    "c = zip(a,b)\n",
    "\n",
    "print(c)\n",
    "\n",
    "d = []\n",
    "\n",
    "for i in c:\n",
    "     d.append(list(i))\n",
    "\n",
    "print(d)"
   ]
  }
 ],
 "metadata": {
  "kernelspec": {
   "display_name": "Python 3",
   "language": "python",
   "name": "python3"
  },
  "language_info": {
   "codemirror_mode": {
    "name": "ipython",
    "version": 3
   },
   "file_extension": ".py",
   "mimetype": "text/x-python",
   "name": "python",
   "nbconvert_exporter": "python",
   "pygments_lexer": "ipython3",
   "version": "3.11.1"
  }
 },
 "nbformat": 4,
 "nbformat_minor": 2
}
