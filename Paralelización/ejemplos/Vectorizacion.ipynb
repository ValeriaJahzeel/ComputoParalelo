{
 "cells": [
  {
   "cell_type": "markdown",
   "id": "8cbf90a8",
   "metadata": {},
   "source": [
    "# Ejemplos con Vectorization"
   ]
  },
  {
   "cell_type": "code",
   "execution_count": 14,
   "id": "49d1a234",
   "metadata": {},
   "outputs": [],
   "source": [
    "# Se cargan las bibliotecas necesarias\n",
    "import numpy as np\n",
    "import matplotlib.pyplot as plt\n",
    "from time import time"
   ]
  },
  {
   "cell_type": "code",
   "execution_count": 15,
   "id": "a08ab0d8",
   "metadata": {},
   "outputs": [
    {
     "name": "stdout",
     "output_type": "stream",
     "text": [
      "2147483648.0\n"
     ]
    }
   ],
   "source": [
    "# Limitante en cuanto el direccionamiento con 32 bits\n",
    "print(2**32/2)"
   ]
  },
  {
   "cell_type": "code",
   "execution_count": 16,
   "id": "0904e9d8",
   "metadata": {},
   "outputs": [],
   "source": [
    "x=np.array(2147483647, dtype=np.int32)"
   ]
  },
  {
   "cell_type": "code",
   "execution_count": 17,
   "id": "d6081acf",
   "metadata": {},
   "outputs": [
    {
     "name": "stdout",
     "output_type": "stream",
     "text": [
      "-2147483648\n"
     ]
    }
   ],
   "source": [
    "print(x+1)"
   ]
  },
  {
   "cell_type": "markdown",
   "id": "b4c8a7b6",
   "metadata": {},
   "source": [
    "## Ejemplo de Vectorización: suma de dos vectores"
   ]
  },
  {
   "cell_type": "code",
   "execution_count": 18,
   "id": "6b374e8c",
   "metadata": {},
   "outputs": [
    {
     "name": "stdout",
     "output_type": "stream",
     "text": [
      "0.01524801254272461 s +/- 0.0007402159843058914 s\n"
     ]
    }
   ],
   "source": [
    "# Se crea una función para realizar una rutina de manera secuencial\n",
    "\n",
    "def secuential(n):\n",
    "    # Se crean dos vectores de tamaño n\n",
    "    a=np.random.randint(255, size=n)\n",
    "    b=np.random.randint(255, size=n)\n",
    "    # Se crea una lista para guardar el resultado\n",
    "    suma = []\n",
    "    t=time()\n",
    "    for i in range(len(a)):\n",
    "        suma.append(a[i]+b[i])\n",
    "    return (time()-t)\n",
    "\n",
    "# Se hacen 10 repeticiones\n",
    "s=[]\n",
    "for i in range(10):\n",
    "    s.append(secuential(100000))\n",
    "\n",
    "print(np.mean(np.array(s)),'s +/-',np.std(np.array(s)), 's')"
   ]
  },
  {
   "cell_type": "code",
   "execution_count": 19,
   "id": "1089302c",
   "metadata": {},
   "outputs": [
    {
     "name": "stdout",
     "output_type": "stream",
     "text": [
      "9.968280792236329e-05 =/- 0.00029904842376708983\n"
     ]
    }
   ],
   "source": [
    "# Se crea una función para realizar una rutina con vectorización\n",
    "def vectorization(n):\n",
    "    a=np.random.randint(255, size=n)\n",
    "    b=np.random.randint(255, size=n)\n",
    "    # Se crea una lista para guardar el resultado\n",
    "    t=time()\n",
    "    c=a+b\n",
    "    return (time()-t)\n",
    "\n",
    "# Se hacen 10 repeticiones\n",
    "s=[]\n",
    "for i in range(10):\n",
    "    s.append(vectorization(100000))\n",
    "\n",
    "print(np.mean(np.array(s)),'=/-',np.std(np.array(s)))"
   ]
  },
  {
   "cell_type": "code",
   "execution_count": 20,
   "id": "63a9f98d",
   "metadata": {},
   "outputs": [
    {
     "name": "stdout",
     "output_type": "stream",
     "text": [
      "0.0051343441009521484\n"
     ]
    }
   ],
   "source": [
    "# Se crea una función para realizar una rutina con vectorización\n",
    "def vectorization(n):\n",
    "    a=np.random.randint(255, size=n)\n",
    "    b=np.random.randint(255, size=n)\n",
    "    # Se crea una lista para guardar el resultado\n",
    "    t=time()\n",
    "    for i in range(100):\n",
    "        c=a+b\n",
    "    return (time()-t)\n",
    "\n",
    "# Se hacen 10 repeticiones\n",
    "print(vectorization(100000))"
   ]
  },
  {
   "cell_type": "markdown",
   "id": "6d9aa032",
   "metadata": {},
   "source": [
    "# Resta de dos vectores"
   ]
  },
  {
   "cell_type": "markdown",
   "id": "879ab566",
   "metadata": {},
   "source": [
    "Para reallizar las RESTAS de manera SECUENCIAL"
   ]
  },
  {
   "cell_type": "code",
   "execution_count": 21,
   "id": "7bf12af3",
   "metadata": {},
   "outputs": [
    {
     "name": "stdout",
     "output_type": "stream",
     "text": [
      "0.017385435104370118 r +/- 0.00029904842376708983 r\n"
     ]
    }
   ],
   "source": [
    "# Se crea una función para realizar una rutina de manera secuencial\n",
    "\n",
    "def secuential(n):\n",
    "    # Se crean dos vectores de tamaño n\n",
    "    a=np.random.randint(255, size=n)\n",
    "    b=np.random.randint(255, size=n)\n",
    "    # Se crea una lista para guardar el resultado\n",
    "    resta = []\n",
    "    t=time()\n",
    "    for i in range(len(a)):\n",
    "        resta.append(a[i]-b[i])\n",
    "\n",
    "    return (time()-t)\n",
    "\n",
    "# Se hacen 10 repeticiones\n",
    "r=[]\n",
    "for i in range(10):\n",
    "    r.append(secuential(100000))\n",
    "\n",
    "print(np.mean(np.array(r)),'r +/-',np.std(np.array(s)), 'r')"
   ]
  },
  {
   "cell_type": "markdown",
   "id": "2244df80",
   "metadata": {},
   "source": [
    "Pera realizar las RESTAS ocupando la VECTORIZACION"
   ]
  },
  {
   "cell_type": "code",
   "execution_count": 25,
   "id": "dd51e17d",
   "metadata": {},
   "outputs": [
    {
     "name": "stdout",
     "output_type": "stream",
     "text": [
      "0.00019993782043457032 =/- 0.000599813461303711\n"
     ]
    }
   ],
   "source": [
    "# Se crea una función para realizar una rutina con vectorización\n",
    "def vectorization(n):\n",
    "    a=np.random.randint(255, size=n)\n",
    "    b=np.random.randint(255, size=n)\n",
    "    # Se crea una lista para guardar el resultado\n",
    "    t=time()\n",
    "    c=a-b\n",
    "    return (time()-t)\n",
    "\n",
    "# Se hacen 10 repeticiones\n",
    "r=[]\n",
    "for i in range(10):\n",
    "    r.append(vectorization(100000))\n",
    "\n",
    "print(np.mean(np.array(r)),'=/-',np.std(np.array(r)))"
   ]
  },
  {
   "cell_type": "markdown",
   "id": "14382325",
   "metadata": {},
   "source": [
    "# Multiplicacion de dos vectores"
   ]
  },
  {
   "cell_type": "markdown",
   "id": "8593e6b9",
   "metadata": {},
   "source": [
    "Para reallizar la MULTIPLICACIÓN de manera SECUENCIAL"
   ]
  },
  {
   "cell_type": "code",
   "execution_count": 26,
   "id": "bb8e6a1b",
   "metadata": {},
   "outputs": [
    {
     "name": "stdout",
     "output_type": "stream",
     "text": [
      "0.029161548614501952 m +/- 0.005700881122848744 m\n"
     ]
    }
   ],
   "source": [
    "# Se crea una función para realizar una rutina de manera secuencial\n",
    "\n",
    "def secuential(n):\n",
    "    # Se crean dos vectores de tamaño n\n",
    "    a=np.random.randint(255, size=n)\n",
    "    b=np.random.randint(255, size=n)\n",
    "    # Se crea una lista para guardar el resultado\n",
    "    multi = []\n",
    "    t=time()\n",
    "    for i in range(len(a)):\n",
    "        multi.append(a[i]*b[i])\n",
    "\n",
    "    return (time()-t)\n",
    "\n",
    "# Se hacen 10 repeticiones\n",
    "m=[]\n",
    "for i in range(10):\n",
    "    m.append(secuential(100000))\n",
    "\n",
    "print(np.mean(np.array(m)),'m +/-',np.std(np.array(m)), 'm')"
   ]
  },
  {
   "cell_type": "markdown",
   "id": "0e66191f",
   "metadata": {},
   "source": [
    "Pera realizar la MULTIPLICACIÓN ocupando la VECTORIZACION"
   ]
  },
  {
   "cell_type": "code",
   "execution_count": 27,
   "id": "4ce7fb1d",
   "metadata": {},
   "outputs": [
    {
     "name": "stdout",
     "output_type": "stream",
     "text": [
      "0.0 =/- 0.0\n"
     ]
    }
   ],
   "source": [
    "# Se crea una función para realizar una rutina con vectorización\n",
    "def vectorization(n):\n",
    "    a=np.random.randint(255, size=n)\n",
    "    b=np.random.randint(255, size=n)\n",
    "    # Se crea una lista para guardar el resultado\n",
    "    t=time()\n",
    "    c=a*b\n",
    "    return (time()-t)\n",
    "\n",
    "# Se hacen 10 repeticiones\n",
    "m=[]\n",
    "for i in range(10):\n",
    "    m.append(vectorization(100000))\n",
    "\n",
    "print(np.mean(np.array(m)),'=/-',np.std(np.array(m)))"
   ]
  }
 ],
 "metadata": {
  "kernelspec": {
   "display_name": "Python 3 (ipykernel)",
   "language": "python",
   "name": "python3"
  },
  "language_info": {
   "codemirror_mode": {
    "name": "ipython",
    "version": 3
   },
   "file_extension": ".py",
   "mimetype": "text/x-python",
   "name": "python",
   "nbconvert_exporter": "python",
   "pygments_lexer": "ipython3",
   "version": "3.11.1"
  }
 },
 "nbformat": 4,
 "nbformat_minor": 5
}
