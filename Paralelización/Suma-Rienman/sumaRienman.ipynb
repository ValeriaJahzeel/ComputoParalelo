{
 "cells": [
  {
   "cell_type": "code",
   "execution_count": 1,
   "metadata": {},
   "outputs": [],
   "source": [
    "from time import time\n",
    "import numpy as np\n",
    "from multiprocess import Pool\n",
    "from itertools import chain\n",
    "\n",
    "def nivelacion_cargas(D, n_p):\n",
    "    s=len(D)%n_p\n",
    "    t=int((len(D)-s)/n_p)\n",
    "    out=[]\n",
    "    for i in range(n_p):\n",
    "        if i<s:\n",
    "            out.append(D[i*t+i:i*t+i+t+1])            \n",
    "        else:\n",
    "            out.append(D[i*t+s:i*t+s+t])\n",
    "    return out\n",
    "\n",
    "def suma_Riemann(a, b, funcion, figuras_inscritas):\n",
    "    t = time()\n",
    "    ancho = (b - a) / figuras_inscritas\n",
    "    print(\"Ancho de los rectangulos ->\", ancho)\n",
    "    suma_riemann = 0\n",
    "    for i in range(1, figuras_inscritas + 1):\n",
    "        datos = a + i * ancho\n",
    "        suma_riemann += funcion(datos) * ancho\n",
    "    tiempo_total = time() - t\n",
    "    return suma_riemann, tiempo_total\n",
    "\n",
    "def riemann_Pool(a, b, num_proce, funcion, figuras_inscritas):\n",
    "    t = time()\n",
    "    ancho = (b - a) / figuras_inscritas\n",
    "    print(\"Ancho de los rectangulos ->\", ancho)\n",
    "    \n",
    "    datos = np.linspace(a + ancho, b, figuras_inscritas)\n",
    "    \n",
    "    nivel_cargas = nivelacion_cargas(D=np.array(datos), n_p=num_proce)\n",
    "    #print(\"Nivelacion de cargas ->\", nivel_cargas)\n",
    "    \n",
    "    with Pool(num_proce) as pool:\n",
    "        resul_sublistas = pool.map(funcion, nivel_cargas)\n",
    "        \n",
    "    #resultados_combinados =  [items for mini_lista in resul_sublistas for items in mini_lista] --> lo mismo que:\n",
    "    resultados_combinados = list(chain.from_iterable(resul_sublistas))\n",
    "    resul = sum(resultados_combinados) * ancho\n",
    "    tiempo_total = time() - t\n",
    "    return resul, tiempo_total"
   ]
  },
  {
   "cell_type": "code",
   "execution_count": 2,
   "metadata": {},
   "outputs": [
    {
     "name": "stdout",
     "output_type": "stream",
     "text": [
      "Sin usar Rienmann\n",
      "Ancho de los rectangulos -> 25.0\n",
      "tiempo Sin Pool -> 0.0 segundos\n",
      "Resultado -> 41979687500.0 \n",
      "\n",
      "Con Rienmann\n",
      "Ancho de los rectangulos -> 25.0\n",
      "tiempo CON Pool -> 0.5282034873962402 segundos\n",
      "Resultado -> 41979687500.0\n"
     ]
    }
   ],
   "source": [
    "limite_inferior = 0\n",
    "limite_superior = 5000\n",
    "funcion = lambda x: x**2\n",
    "num_procesadores = 4\n",
    "figuras_inscritas =200\n",
    "\n",
    "print(\"Sin usar Rienmann\")\n",
    "resultado, tiempo_total = suma_Riemann(a = limite_inferior,b= limite_superior, funcion=funcion,figuras_inscritas = figuras_inscritas)\n",
    "print(\"tiempo Sin Pool ->\", tiempo_total, \"segundos\")\n",
    "print(\"Resultado ->\", resultado, \"\\n\")\n",
    "\n",
    "print(\"Con Rienmann\")\n",
    "resultado, tiempo_total = riemann_Pool(a = limite_inferior,b= limite_superior, num_proce=num_procesadores, funcion=funcion,figuras_inscritas = figuras_inscritas)\n",
    "print(\"tiempo CON Pool ->\", tiempo_total, \"segundos\")\n",
    "print(\"Resultado ->\", resultado)"
   ]
  },
  {
   "cell_type": "code",
   "execution_count": 3,
   "metadata": {},
   "outputs": [
    {
     "name": "stdout",
     "output_type": "stream",
     "text": [
      "Sin usar Rienmann\n",
      "Ancho de los rectangulos -> 0.0001\n",
      "tiempo Sin Pool -> 0.10626459121704102 segundos\n",
      "Resultado -> 648.6561245622664 \n",
      "\n",
      "Con Rienmann\n",
      "Ancho de los rectangulos -> 0.0001\n",
      "tiempo CON Pool -> 0.37894678115844727 segundos\n",
      "Resultado -> 648.6561245622644\n"
     ]
    }
   ],
   "source": [
    "limite_inferior = 0\n",
    "limite_superior = 40\n",
    "funcion = lambda x:(x/2) + x**(1/2) + 2 \n",
    "num_proce = 3\n",
    "figuras_inscritas =400000\n",
    "\n",
    "print(\"Sin usar Rienmann\")\n",
    "resultado, tiempo_total = suma_Riemann(a = limite_inferior,b= limite_superior, funcion=funcion,figuras_inscritas = figuras_inscritas)\n",
    "print(\"tiempo Sin Pool ->\", tiempo_total, \"segundos\")\n",
    "print(\"Resultado ->\", resultado, \"\\n\")\n",
    "\n",
    "print(\"Con Rienmann\")\n",
    "resultado, tiempo_total = riemann_Pool(a = limite_inferior,b= limite_superior, num_proce=num_proce, funcion=funcion,figuras_inscritas = figuras_inscritas)\n",
    "print(\"tiempo CON Pool ->\", tiempo_total, \"segundos\")\n",
    "print(\"Resultado ->\", resultado)"
   ]
  },
  {
   "cell_type": "code",
   "execution_count": 4,
   "metadata": {},
   "outputs": [
    {
     "name": "stdout",
     "output_type": "stream",
     "text": [
      "Con Rienmann\n",
      "Ancho de los rectangulos -> 1.0\n"
     ]
    },
    {
     "ename": "MaybeEncodingError",
     "evalue": "Error sending result: '[array([-1.23904795e+64, -1.23904873e+64, -1.23904951e+64, ...,\n       -6.34391751e+66, -6.34391951e+66, -6.34392150e+66])]'. Reason: 'OSError(22, 'Recursos insuficientes en el sistema para completar el servicio solicitado', None, 1450, None)'",
     "output_type": "error",
     "traceback": [
      "\u001b[1;31m---------------------------------------------------------------------------\u001b[0m",
      "\u001b[1;31mMaybeEncodingError\u001b[0m                        Traceback (most recent call last)",
      "Cell \u001b[1;32mIn[4], line 9\u001b[0m\n\u001b[0;32m      5\u001b[0m figuras_inscritas \u001b[38;5;241m=\u001b[39m\u001b[38;5;241m100000000\u001b[39m\n\u001b[0;32m      8\u001b[0m \u001b[38;5;28mprint\u001b[39m(\u001b[38;5;124m\"\u001b[39m\u001b[38;5;124mCon Rienmann\u001b[39m\u001b[38;5;124m\"\u001b[39m)\n\u001b[1;32m----> 9\u001b[0m resultado, tiempo_total \u001b[38;5;241m=\u001b[39m \u001b[43mriemann_Pool\u001b[49m\u001b[43m(\u001b[49m\u001b[43ma\u001b[49m\u001b[43m \u001b[49m\u001b[38;5;241;43m=\u001b[39;49m\u001b[43m \u001b[49m\u001b[43mlimite_inferior\u001b[49m\u001b[43m,\u001b[49m\u001b[43mb\u001b[49m\u001b[38;5;241;43m=\u001b[39;49m\u001b[43m \u001b[49m\u001b[43mlimite_superior\u001b[49m\u001b[43m,\u001b[49m\u001b[43m \u001b[49m\u001b[43mnum_proce\u001b[49m\u001b[38;5;241;43m=\u001b[39;49m\u001b[43mnum_proce\u001b[49m\u001b[43m,\u001b[49m\u001b[43m \u001b[49m\u001b[43mfuncion\u001b[49m\u001b[38;5;241;43m=\u001b[39;49m\u001b[43mfuncion\u001b[49m\u001b[43m,\u001b[49m\u001b[43mfiguras_inscritas\u001b[49m\u001b[43m \u001b[49m\u001b[38;5;241;43m=\u001b[39;49m\u001b[43m \u001b[49m\u001b[43mfiguras_inscritas\u001b[49m\u001b[43m)\u001b[49m\n\u001b[0;32m     10\u001b[0m \u001b[38;5;28mprint\u001b[39m(\u001b[38;5;124m\"\u001b[39m\u001b[38;5;124mtiempo Con Pool ->\u001b[39m\u001b[38;5;124m\"\u001b[39m, tiempo_total, \u001b[38;5;124m\"\u001b[39m\u001b[38;5;124msegundos\u001b[39m\u001b[38;5;124m\"\u001b[39m)\n\u001b[0;32m     11\u001b[0m \u001b[38;5;28mprint\u001b[39m(\u001b[38;5;124m\"\u001b[39m\u001b[38;5;124mResultado ->\u001b[39m\u001b[38;5;124m\"\u001b[39m, resultado)\n",
      "Cell \u001b[1;32mIn[1], line 39\u001b[0m, in \u001b[0;36mriemann_Pool\u001b[1;34m(a, b, num_proce, funcion, figuras_inscritas)\u001b[0m\n\u001b[0;32m     36\u001b[0m \u001b[38;5;66;03m#print(\"Nivelacion de cargas ->\", nivel_cargas)\u001b[39;00m\n\u001b[0;32m     38\u001b[0m \u001b[38;5;28;01mwith\u001b[39;00m Pool(num_proce) \u001b[38;5;28;01mas\u001b[39;00m pool:\n\u001b[1;32m---> 39\u001b[0m     resul_sublistas \u001b[38;5;241m=\u001b[39m \u001b[43mpool\u001b[49m\u001b[38;5;241;43m.\u001b[39;49m\u001b[43mmap\u001b[49m\u001b[43m(\u001b[49m\u001b[43mfuncion\u001b[49m\u001b[43m,\u001b[49m\u001b[43m \u001b[49m\u001b[43mnivel_cargas\u001b[49m\u001b[43m)\u001b[49m\n\u001b[0;32m     41\u001b[0m \u001b[38;5;66;03m#resultados_combinados =  [items for mini_lista in resul_sublistas for items in mini_lista] --> lo mismo que:\u001b[39;00m\n\u001b[0;32m     42\u001b[0m resultados_combinados \u001b[38;5;241m=\u001b[39m \u001b[38;5;28mlist\u001b[39m(chain\u001b[38;5;241m.\u001b[39mfrom_iterable(resul_sublistas))\n",
      "File \u001b[1;32mc:\\Users\\chj06\\AppData\\Local\\Programs\\Python\\Python311\\Lib\\site-packages\\multiprocess\\pool.py:367\u001b[0m, in \u001b[0;36mPool.map\u001b[1;34m(self, func, iterable, chunksize)\u001b[0m\n\u001b[0;32m    362\u001b[0m \u001b[38;5;28;01mdef\u001b[39;00m \u001b[38;5;21mmap\u001b[39m(\u001b[38;5;28mself\u001b[39m, func, iterable, chunksize\u001b[38;5;241m=\u001b[39m\u001b[38;5;28;01mNone\u001b[39;00m):\n\u001b[0;32m    363\u001b[0m \u001b[38;5;250m    \u001b[39m\u001b[38;5;124;03m'''\u001b[39;00m\n\u001b[0;32m    364\u001b[0m \u001b[38;5;124;03m    Apply `func` to each element in `iterable`, collecting the results\u001b[39;00m\n\u001b[0;32m    365\u001b[0m \u001b[38;5;124;03m    in a list that is returned.\u001b[39;00m\n\u001b[0;32m    366\u001b[0m \u001b[38;5;124;03m    '''\u001b[39;00m\n\u001b[1;32m--> 367\u001b[0m     \u001b[38;5;28;01mreturn\u001b[39;00m \u001b[38;5;28;43mself\u001b[39;49m\u001b[38;5;241;43m.\u001b[39;49m\u001b[43m_map_async\u001b[49m\u001b[43m(\u001b[49m\u001b[43mfunc\u001b[49m\u001b[43m,\u001b[49m\u001b[43m \u001b[49m\u001b[43miterable\u001b[49m\u001b[43m,\u001b[49m\u001b[43m \u001b[49m\u001b[43mmapstar\u001b[49m\u001b[43m,\u001b[49m\u001b[43m \u001b[49m\u001b[43mchunksize\u001b[49m\u001b[43m)\u001b[49m\u001b[38;5;241;43m.\u001b[39;49m\u001b[43mget\u001b[49m\u001b[43m(\u001b[49m\u001b[43m)\u001b[49m\n",
      "File \u001b[1;32mc:\\Users\\chj06\\AppData\\Local\\Programs\\Python\\Python311\\Lib\\site-packages\\multiprocess\\pool.py:774\u001b[0m, in \u001b[0;36mApplyResult.get\u001b[1;34m(self, timeout)\u001b[0m\n\u001b[0;32m    772\u001b[0m     \u001b[38;5;28;01mreturn\u001b[39;00m \u001b[38;5;28mself\u001b[39m\u001b[38;5;241m.\u001b[39m_value\n\u001b[0;32m    773\u001b[0m \u001b[38;5;28;01melse\u001b[39;00m:\n\u001b[1;32m--> 774\u001b[0m     \u001b[38;5;28;01mraise\u001b[39;00m \u001b[38;5;28mself\u001b[39m\u001b[38;5;241m.\u001b[39m_value\n",
      "\u001b[1;31mMaybeEncodingError\u001b[0m: Error sending result: '[array([-1.23904795e+64, -1.23904873e+64, -1.23904951e+64, ...,\n       -6.34391751e+66, -6.34391951e+66, -6.34392150e+66])]'. Reason: 'OSError(22, 'Recursos insuficientes en el sistema para completar el servicio solicitado', None, 1450, None)'"
     ]
    }
   ],
   "source": [
    "limite_inferior = 0\n",
    "limite_superior = 100000000\n",
    "funcion = lambda x: x**2 + 2*x - x/2 * x**8 + 2*x**3\n",
    "num_proce = 7\n",
    "figuras_inscritas =100000000\n",
    "\n",
    "\n",
    "print(\"Con Rienmann\")\n",
    "resultado, tiempo_total = riemann_Pool(a = limite_inferior,b= limite_superior, num_proce=num_proce, funcion=funcion,figuras_inscritas = figuras_inscritas)\n",
    "print(\"tiempo Con Pool ->\", tiempo_total, \"segundos\")\n",
    "print(\"Resultado ->\", resultado)\n",
    "\n",
    "\n",
    "print(\"Sin usar Rienmann\")\n",
    "resultado, tiempo_total = suma_Riemann(a = limite_inferior,b= limite_superior, funcion=funcion,figuras_inscritas = figuras_inscritas)\n",
    "print(\"tiempo Sin Pool ->\", tiempo_total, \"segundos\")\n",
    "print(\"Resultado ->\", resultado, \"\\n\")"
   ]
  }
 ],
 "metadata": {
  "kernelspec": {
   "display_name": "Python 3",
   "language": "python",
   "name": "python3"
  },
  "language_info": {
   "codemirror_mode": {
    "name": "ipython",
    "version": 3
   },
   "file_extension": ".py",
   "mimetype": "text/x-python",
   "name": "python",
   "nbconvert_exporter": "python",
   "pygments_lexer": "ipython3",
   "version": "3.11.1"
  }
 },
 "nbformat": 4,
 "nbformat_minor": 2
}
