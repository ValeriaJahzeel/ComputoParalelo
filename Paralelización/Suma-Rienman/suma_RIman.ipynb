{
 "cells": [
  {
   "cell_type": "code",
   "execution_count": 1,
   "metadata": {},
   "outputs": [],
   "source": [
    "from time import time\n",
    "import numpy as np\n",
    "from multiprocess import Pool\n",
    "from itertools import chain\n",
    "\n",
    "def nivelacion_cargas(D, n_p):\n",
    "    s=len(D)%n_p\n",
    "    t=int((len(D)-s)/n_p)\n",
    "    out=[]\n",
    "    for i in range(n_p):\n",
    "        if i<s:\n",
    "            out.append(D[i*t+i:i*t+i+t+1])            \n",
    "        else:\n",
    "            out.append(D[i*t+s:i*t+s+t])\n",
    "    return out\n",
    "\n",
    "def suma_Riemann(a, b, funcion, figuras_inscritas):\n",
    "    t = time()\n",
    "    ancho = (b - a) / figuras_inscritas\n",
    "    print(\"Ancho de los rectangulos ->\", ancho)\n",
    "    suma_riemann = 0\n",
    "    for i in range(1, figuras_inscritas + 1):\n",
    "        datos = a + i * ancho\n",
    "        suma_riemann += funcion(datos) * ancho\n",
    "    tiempo_total = time() - t\n",
    "    return suma_riemann, tiempo_total\n",
    "\n",
    "def riemann_Pool(a, b, num_proce, funcion, figuras_inscritas):\n",
    "    t = time()\n",
    "    ancho = (b - a) / figuras_inscritas\n",
    "    print(\"Ancho de los rectangulos ->\", ancho)\n",
    "    \n",
    "    datos = np.linspace(a + ancho, b, figuras_inscritas)\n",
    "    \n",
    "    nivel_cargas = nivelacion_cargas(D=np.array(datos), n_p=num_proce)\n",
    "    #print(\"Nivelacion de cargas ->\", nivel_cargas)\n",
    "    \n",
    "    with Pool(num_proce) as pool:\n",
    "        resul_sublistas = pool.map(funcion, nivel_cargas)\n",
    "        \n",
    "    #resultados_combinados =  [items for mini_lista in resul_sublistas for items in mini_lista] --> lo mismo que:\n",
    "    resultados_combinados = list(chain.from_iterable(resul_sublistas))\n",
    "    resul = sum(resultados_combinados) * ancho\n",
    "    tiempo_total = time() - t\n",
    "    return resul, tiempo_total"
   ]
  },
  {
   "cell_type": "code",
   "execution_count": 2,
   "metadata": {},
   "outputs": [
    {
     "name": "stdout",
     "output_type": "stream",
     "text": [
      "Sin usar Rienmann\n",
      "Ancho de los rectangulos -> 25.0\n",
      "tiempo Sin Pool -> 0.0 segundos\n",
      "Resultado -> 41979687500.0 \n",
      "\n",
      "Con Rienmann\n",
      "Ancho de los rectangulos -> 25.0\n",
      "tiempo CON Pool -> 0.7636711597442627 segundos\n",
      "Resultado -> 41979687500.0\n"
     ]
    }
   ],
   "source": [
    "limite_inferior = 0\n",
    "limite_superior = 5000\n",
    "funcion = lambda x: x**2\n",
    "num_procesadores = 4\n",
    "figuras_inscritas =200\n",
    "\n",
    "print(\"Sin usar Rienmann\")\n",
    "resultado, tiempo_total = suma_Riemann(a = limite_inferior,b= limite_superior, funcion=funcion,figuras_inscritas = figuras_inscritas)\n",
    "print(\"tiempo Sin Pool ->\", tiempo_total, \"segundos\")\n",
    "print(\"Resultado ->\", resultado, \"\\n\")\n",
    "\n",
    "print(\"Con Rienmann\")\n",
    "resultado, tiempo_total = riemann_Pool(a = limite_inferior,b= limite_superior, num_proce=num_procesadores, funcion=funcion,figuras_inscritas = figuras_inscritas)\n",
    "print(\"tiempo CON Pool ->\", tiempo_total, \"segundos\")\n",
    "print(\"Resultado ->\", resultado)"
   ]
  },
  {
   "cell_type": "code",
   "execution_count": 4,
   "metadata": {},
   "outputs": [
    {
     "name": "stdout",
     "output_type": "stream",
     "text": [
      "Sin usar Rienmann\n",
      "Ancho de los rectangulos -> 0.0001\n",
      "tiempo Sin Pool -> 0.26589012145996094 segundos\n",
      "Resultado -> 648.6561245622664 \n",
      "\n",
      "Con Rienmann\n",
      "Ancho de los rectangulos -> 0.0001\n",
      "tiempo CON Pool -> 0.7689282894134521 segundos\n",
      "Resultado -> 648.6561245622644\n"
     ]
    }
   ],
   "source": [
    "limite_inferior = 0\n",
    "limite_superior = 40\n",
    "funcion = lambda x:(x/2) + x**(1/2) + 2 \n",
    "num_proce = 3\n",
    "figuras_inscritas =400000\n",
    "\n",
    "print(\"Sin usar Rienmann\")\n",
    "resultado, tiempo_total = suma_Riemann(a = limite_inferior,b= limite_superior, funcion=funcion,figuras_inscritas = figuras_inscritas)\n",
    "print(\"tiempo Sin Pool ->\", tiempo_total, \"segundos\")\n",
    "print(\"Resultado ->\", resultado, \"\\n\")\n",
    "\n",
    "print(\"Con Rienmann\")\n",
    "resultado, tiempo_total = riemann_Pool(a = limite_inferior,b= limite_superior, num_proce=num_proce, funcion=funcion,figuras_inscritas = figuras_inscritas)\n",
    "print(\"tiempo CON Pool ->\", tiempo_total, \"segundos\")\n",
    "print(\"Resultado ->\", resultado)"
   ]
  },
  {
   "cell_type": "code",
   "execution_count": 21,
   "metadata": {},
   "outputs": [
    {
     "name": "stdout",
     "output_type": "stream",
     "text": [
      "Con Rienmann\n",
      "Ancho de los rectangulos -> 1.0\n",
      "tiempo Con Pool -> 27.062655925750732 segundos\n",
      "Resultado -> -5.000000250000444e+78\n",
      "Sin usar Rienmann\n",
      "Ancho de los rectangulos -> 1.0\n",
      "tiempo Sin Pool -> 99.16605043411255 segundos\n",
      "Resultado -> -5.000000250000444e+78 \n",
      "\n"
     ]
    }
   ],
   "source": [
    "limite_inferior = 0\n",
    "limite_superior = 100000000\n",
    "funcion = lambda x: x**2 + 2*x - x/2 * x**8 + 2*x**3\n",
    "num_proce = 7\n",
    "figuras_inscritas =100000000\n",
    "\n",
    "\n",
    "print(\"Con Rienmann\")\n",
    "resultado, tiempo_total = riemann_Pool(a = limite_inferior,b= limite_superior, num_proce=num_proce, funcion=funcion,figuras_inscritas = figuras_inscritas)\n",
    "print(\"tiempo Con Pool ->\", tiempo_total, \"segundos\")\n",
    "print(\"Resultado ->\", resultado)\n",
    "\n",
    "\n",
    "print(\"Sin usar Rienmann\")\n",
    "resultado, tiempo_total = suma_Riemann(a = limite_inferior,b= limite_superior, funcion=funcion,figuras_inscritas = figuras_inscritas)\n",
    "print(\"tiempo Sin Pool ->\", tiempo_total, \"segundos\")\n",
    "print(\"Resultado ->\", resultado, \"\\n\")"
   ]
  }
 ],
 "metadata": {
  "kernelspec": {
   "display_name": "Python 3",
   "language": "python",
   "name": "python3"
  },
  "language_info": {
   "codemirror_mode": {
    "name": "ipython",
    "version": 3
   },
   "file_extension": ".py",
   "mimetype": "text/x-python",
   "name": "python",
   "nbconvert_exporter": "python",
   "pygments_lexer": "ipython3",
   "version": "3.10.10"
  }
 },
 "nbformat": 4,
 "nbformat_minor": 2
}
